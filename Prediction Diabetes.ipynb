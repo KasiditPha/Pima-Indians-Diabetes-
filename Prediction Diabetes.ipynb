{
 "cells": [
  {
   "cell_type": "code",
   "execution_count": 1,
   "metadata": {},
   "outputs": [],
   "source": [
    "from sklearn.model_selection import train_test_split\n",
    "from sklearn.neighbors import KNeighborsClassifier\n",
    "from sklearn.metrics import classification_report,confusion_matrix\n",
    "import numpy as np\n",
    "import pandas as pd\n",
    "import matplotlib.pyplot as plt\n"
   ]
  },
  {
   "cell_type": "code",
   "execution_count": 2,
   "metadata": {},
   "outputs": [],
   "source": [
    "#Read Data\n",
    "df=pd.read_csv(\"diabetes.csv\")\n"
   ]
  },
  {
   "cell_type": "code",
   "execution_count": 3,
   "metadata": {},
   "outputs": [],
   "source": [
    "# data\n",
    "x=df.drop(\"Outcome\",axis=1).values"
   ]
  },
  {
   "cell_type": "code",
   "execution_count": 4,
   "metadata": {},
   "outputs": [],
   "source": [
    "# outcome data\n",
    "y=df['Outcome'].values"
   ]
  },
  {
   "cell_type": "code",
   "execution_count": 90,
   "metadata": {},
   "outputs": [],
   "source": [
    "#แบ่งชุดข้อมูล #test_size คือส่วนของข้อมูลที่เอามา test เป็น %\n",
    "x_train,x_test,y_train,y_test=train_test_split(x,y,test_size=0.4) "
   ]
  },
  {
   "cell_type": "code",
   "execution_count": 91,
   "metadata": {},
   "outputs": [],
   "source": [
    "#เราจะสร้าง model โดยใช้ KNN โดยเราต้องระบุหาค่า K หรือจำหน่วยจุดใกล้เคียง \n",
    "#เพื่อคำนวนหาความแม่นยำของตัว model ว่าเราควรจะเลือกใช้ตัว K ที่สามารถบอกความแม่นยำของ model\n",
    "\n",
    "# find k to model\n",
    "k_neighbors=np.arange(1,9)"
   ]
  },
  {
   "cell_type": "code",
   "execution_count": 92,
   "metadata": {},
   "outputs": [],
   "source": [
    "#empty\n",
    "train_score = np.empty(len(k_neighbors))\n",
    "test_score = np.empty(len(k_neighbors))"
   ]
  },
  {
   "cell_type": "code",
   "execution_count": 93,
   "metadata": {},
   "outputs": [
    {
     "name": "stdout",
     "output_type": "stream",
     "text": [
      "67.20779220779221\n",
      "70.45454545454545\n",
      "66.88311688311688\n",
      "71.1038961038961\n",
      "69.48051948051948\n",
      "73.37662337662337\n",
      "71.42857142857143\n",
      "74.02597402597402\n"
     ]
    }
   ],
   "source": [
    "#ซึ่งวิธีหาคือทำการ train ค่าข้อมูลของเราไปที่ model โดยเราจะทดสอบค่า k ทุกค่า\n",
    "for i,k in enumerate(k_neighbors):\n",
    "    #1-8\n",
    "    knn=KNeighborsClassifier(n_neighbors=k)\n",
    "    knn.fit(x_train,y_train)\n",
    "    #วัดประสิทธิภาพ\n",
    "    train_score[i]=knn.score(x_train,y_train)\n",
    "    test_score[i]=knn.score(x_test,y_test)\n",
    "    print(test_score[i]*100)"
   ]
  },
  {
   "cell_type": "code",
   "execution_count": 94,
   "metadata": {},
   "outputs": [
    {
     "data": {
      "image/png": "[encoded data removed]",
      "text/plain": [
       "<Figure size 432x288 with 1 Axes>"
      ]
     },
     "metadata": {
      "needs_background": "light"
     },
     "output_type": "display_data"
    }
   ],
   "source": [
    "plt.title(\"Compare K value in model\")\n",
    "plt.plot(k_neighbors,test_score,label=\"Test Score\")\n",
    "plt.plot(k_neighbors,train_score,label=\"train Score\")\n",
    "plt.legend()\n",
    "plt.xlabel(\"K Number\")\n",
    "plt.ylabel(\"Score\")\n",
    "plt.show()"
   ]
  },
  {
   "cell_type": "code",
   "execution_count": 95,
   "metadata": {},
   "outputs": [],
   "source": [
    "#prediction \n",
    "knn=KNeighborsClassifier(n_neighbors=8)\n",
    "#train\n",
    "knn.fit(x_train,y_train)\n",
    "\n",
    "y_pred=knn.predict(x_test)\n"
   ]
  },
  {
   "cell_type": "code",
   "execution_count": 96,
   "metadata": {
    "scrolled": true
   },
   "outputs": [
    {
     "name": "stdout",
     "output_type": "stream",
     "text": [
      "              precision    recall  f1-score   support\n",
      "\n",
      "           0       0.77      0.86      0.81       201\n",
      "           1       0.66      0.52      0.58       107\n",
      "\n",
      "    accuracy                           0.74       308\n",
      "   macro avg       0.72      0.69      0.70       308\n",
      "weighted avg       0.73      0.74      0.73       308\n",
      "\n"
     ]
    }
   ],
   "source": [
    "print(classification_report(y_test,y_pred))"
   ]
  },
  {
   "cell_type": "code",
   "execution_count": 97,
   "metadata": {},
   "outputs": [
    {
     "name": "stdout",
     "output_type": "stream",
     "text": [
      "Prediction    0   1  All\n",
      "Actually                \n",
      "0           172  29  201\n",
      "1            51  56  107\n",
      "All         223  85  308\n"
     ]
    }
   ],
   "source": [
    "#ค่าความคาดเคลื่อน\n",
    "print(pd.crosstab(y_test,y_pred,rownames=['Actually'],colnames=['Prediction'],margins=True))"
   ]
  },
  {
   "cell_type": "code",
   "execution_count": null,
   "metadata": {},
   "outputs": [],
   "source": []
  },
  {
   "cell_type": "code",
   "execution_count": null,
   "metadata": {},
   "outputs": [],
   "source": []
  }
 ],
 "metadata": {
  "kernelspec": {
   "display_name": "Python 3",
   "language": "python",
   "name": "python3"
  },
  "language_info": {
   "codemirror_mode": {
    "name": "ipython",
    "version": 3
   },
   "file_extension": ".py",
   "mimetype": "text/x-python",
   "name": "python",
   "nbconvert_exporter": "python",
   "pygments_lexer": "ipython3",
   "version": "3.7.7"
  }
 },
 "nbformat": 4,
 "nbformat_minor": 4
}
